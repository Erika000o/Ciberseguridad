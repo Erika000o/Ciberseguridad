{
  "nbformat": 4,
  "nbformat_minor": 0,
  "metadata": {
    "colab": {
      "provenance": [],
      "authorship_tag": "ABX9TyN2Zt/AqDzqJpcPXY3DDZ2t",
      "include_colab_link": true
    },
    "kernelspec": {
      "name": "python3",
      "display_name": "Python 3"
    },
    "language_info": {
      "name": "python"
    }
  },
  "cells": [
    {
      "cell_type": "markdown",
      "metadata": {
        "id": "view-in-github",
        "colab_type": "text"
      },
      "source": [
        "<a href=\"https://colab.research.google.com/github/Erika000o/Ciberseguridad/blob/main/Criptografia.ipynb\" target=\"_parent\"><img src=\"https://colab.research.google.com/assets/colab-badge.svg\" alt=\"Open In Colab\"/></a>"
      ]
    },
    {
      "cell_type": "code",
      "execution_count": 2,
      "metadata": {
        "id": "e7lf5cKCKoMz",
        "outputId": "a52dc031-562c-4d51-fc03-7fbdeca49629",
        "colab": {
          "base_uri": "https://localhost:8080/"
        }
      },
      "outputs": [
        {
          "output_type": "stream",
          "name": "stdout",
          "text": [
            "None\n"
          ]
        }
      ],
      "source": [
        "# AEE Euclides Extended UC\n",
        "# Adapted from : http://inventwithpython.com/hacking (BSD Licensed)\n",
        "\n",
        "def gcd(a, b):\n",
        "    # Return the GCD of a and b using Euclid's Algorithm\n",
        "    while a != 0:\n",
        "        a, b = b % a, a\n",
        "    return b\n",
        "\n",
        "\n",
        "def findModInverse(a, m):\n",
        "    # Returns the modular inverse of a % m, which is\n",
        "    # the number x such that a*x % m = 1\n",
        "\n",
        "    if gcd(a, m) != 1:\n",
        "        return None # no mod inverse if a & m aren't relatively prime\n",
        "\n",
        "    # Calculate using the Extended Euclidean Algorithm:\n",
        "    u1, u2, u3 = 1, 0, a\n",
        "    v1, v2, v3 = 0, 1, m\n",
        "    while v3 != 0:\n",
        "        q = u3 // v3 # // is the integer division operator\n",
        "        v1, v2, v3, u1, u2, u3 = (u1 - q * v1), (u2 - q * v2), (u3 - q * v3), v1, v2, v3\n",
        "    return u1 % m\n",
        "\n",
        "x = 7\n",
        "y = 3312\n",
        "e = findModInverse(x,y)\n",
        "print(e)"
      ]
    }
  ]
}